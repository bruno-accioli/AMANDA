{
 "cells": [
  {
   "cell_type": "code",
   "execution_count": 1,
   "metadata": {},
   "outputs": [],
   "source": [
    "import Orange\n",
    "import matplotlib.pyplot as plt\n",
    "from scipy.stats import friedmanchisquare\n",
    "from scipy.stats import rankdata\n",
    "import numpy as np\n",
    "\n",
    "# Criar tabela com a acurácia de cada modelo em cada dataset\n",
    "# Cada linha é um dataset, cada coluna um modelo\n",
    "\n",
    "acc_list = [[]]"
   ]
  },
  {
   "cell_type": "code",
   "execution_count": null,
   "metadata": {},
   "outputs": [],
   "source": []
  }
 ],
 "metadata": {
  "kernelspec": {
   "display_name": "Python 3 (Spyder)",
   "language": "python3",
   "name": "python3"
  },
  "language_info": {
   "codemirror_mode": {
    "name": "ipython",
    "version": 3
   },
   "file_extension": ".py",
   "mimetype": "text/x-python",
   "name": "python",
   "nbconvert_exporter": "python",
   "pygments_lexer": "ipython3",
   "version": "3.7.1"
  }
 },
 "nbformat": 4,
 "nbformat_minor": 2
}
