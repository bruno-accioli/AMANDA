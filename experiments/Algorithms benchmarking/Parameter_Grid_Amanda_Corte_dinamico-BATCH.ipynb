{
 "cells": [
  {
   "cell_type": "code",
   "execution_count": null,
   "metadata": {
    "scrolled": true
   },
   "outputs": [
    {
     "name": "stderr",
     "output_type": "stream",
     "text": [
      "C:\\Users\\Alunos\\Anaconda3\\lib\\site-packages\\sklearn\\ensemble\\weight_boosting.py:29: DeprecationWarning: numpy.core.umath_tests is an internal NumPy module and should not be imported. It will be removed in a future NumPy release.\n",
      "  from numpy.core.umath_tests import inner1d\n",
      "C:\\Users\\Alunos\\Documents\\Bruno_Accioli\\AMANDA\\setup.py:20: FutureWarning: Method .as_matrix will be removed in a future version. Use .values instead.\n",
      "  dataValues = pd.DataFrame.as_matrix(dataValues)\n"
     ]
    },
    {
     "name": "stdout",
     "output_type": "stream",
     "text": [
      "**************** BEGIN of LP-BBD-50.000 results ****************\n",
      "One Class Diagonal Translation. 2 Dimensional data.: 47 batches of 153 instances\n",
      "99.36127659574468 {'K': 2, 'batches': 47, 'beta': -50, 'clfName': 'LP', 'distanceMetric': 'BBD', 'initialLabeledData': 800, 'isBatchMode': True, 'poolSize': None, 'sizeOfBatch': 153}\n",
      "99.36127659574468 {'K': 3, 'batches': 47, 'beta': -50, 'clfName': 'LP', 'distanceMetric': 'BBD', 'initialLabeledData': 800, 'isBatchMode': True, 'poolSize': None, 'sizeOfBatch': 153}\n",
      "99.34723404255321 {'K': 4, 'batches': 47, 'beta': -50, 'clfName': 'LP', 'distanceMetric': 'BBD', 'initialLabeledData': 800, 'isBatchMode': True, 'poolSize': None, 'sizeOfBatch': 153}\n",
      "99.34723404255321 {'K': 5, 'batches': 47, 'beta': -50, 'clfName': 'LP', 'distanceMetric': 'BBD', 'initialLabeledData': 800, 'isBatchMode': True, 'poolSize': None, 'sizeOfBatch': 153}\n",
      "99.37510638297874 {'K': 6, 'batches': 47, 'beta': -50, 'clfName': 'LP', 'distanceMetric': 'BBD', 'initialLabeledData': 800, 'isBatchMode': True, 'poolSize': None, 'sizeOfBatch': 153}\n",
      "99.36127659574468 {'K': 7, 'batches': 47, 'beta': -50, 'clfName': 'LP', 'distanceMetric': 'BBD', 'initialLabeledData': 800, 'isBatchMode': True, 'poolSize': None, 'sizeOfBatch': 153}\n",
      "99.38914893617023 {'K': 8, 'batches': 47, 'beta': -50, 'clfName': 'LP', 'distanceMetric': 'BBD', 'initialLabeledData': 800, 'isBatchMode': True, 'poolSize': None, 'sizeOfBatch': 153}\n",
      "99.34723404255321 {'K': 9, 'batches': 47, 'beta': -50, 'clfName': 'LP', 'distanceMetric': 'BBD', 'initialLabeledData': 800, 'isBatchMode': True, 'poolSize': None, 'sizeOfBatch': 153}\n",
      "99.38914893617023 {'K': 10, 'batches': 47, 'beta': -50, 'clfName': 'LP', 'distanceMetric': 'BBD', 'initialLabeledData': 800, 'isBatchMode': True, 'poolSize': None, 'sizeOfBatch': 153}\n",
      "99.36127659574468 {'K': 11, 'batches': 47, 'beta': -50, 'clfName': 'LP', 'distanceMetric': 'BBD', 'initialLabeledData': 800, 'isBatchMode': True, 'poolSize': None, 'sizeOfBatch': 153}\n",
      "99.37510638297874 {'K': 12, 'batches': 47, 'beta': -50, 'clfName': 'LP', 'distanceMetric': 'BBD', 'initialLabeledData': 800, 'isBatchMode': True, 'poolSize': None, 'sizeOfBatch': 153}\n",
      "99.38914893617023\n",
      "{'K': 8, 'batches': 47, 'beta': -50, 'clfName': 'LP', 'distanceMetric': 'BBD', 'initialLabeledData': 800, 'isBatchMode': True, 'poolSize': None, 'sizeOfBatch': 153}\n",
      "=======================================================================================================\n",
      "One Class Horizontal Translation. 2 Dimensional data.: 47 batches of 153 instances\n"
     ]
    },
    {
     "name": "stderr",
     "output_type": "stream",
     "text": [
      "C:\\Users\\Alunos\\Documents\\Bruno_Accioli\\AMANDA\\setup.py:33: FutureWarning: Method .as_matrix will be removed in a future version. Use .values instead.\n",
      "  dataValues = pd.DataFrame.as_matrix(dataValues)\n"
     ]
    },
    {
     "name": "stdout",
     "output_type": "stream",
     "text": [
      "69.33617021276596 {'K': 2, 'batches': 47, 'beta': -50, 'clfName': 'LP', 'distanceMetric': 'BBD', 'initialLabeledData': 800, 'isBatchMode': True, 'poolSize': None, 'sizeOfBatch': 153}\n",
      "74.48170212765959 {'K': 3, 'batches': 47, 'beta': -50, 'clfName': 'LP', 'distanceMetric': 'BBD', 'initialLabeledData': 800, 'isBatchMode': True, 'poolSize': None, 'sizeOfBatch': 153}\n",
      "77.59659574468085 {'K': 4, 'batches': 47, 'beta': -50, 'clfName': 'LP', 'distanceMetric': 'BBD', 'initialLabeledData': 800, 'isBatchMode': True, 'poolSize': None, 'sizeOfBatch': 153}\n",
      "77.72191489361701 {'K': 5, 'batches': 47, 'beta': -50, 'clfName': 'LP', 'distanceMetric': 'BBD', 'initialLabeledData': 800, 'isBatchMode': True, 'poolSize': None, 'sizeOfBatch': 153}\n",
      "96.0640425531915 {'K': 6, 'batches': 47, 'beta': -50, 'clfName': 'LP', 'distanceMetric': 'BBD', 'initialLabeledData': 800, 'isBatchMode': True, 'poolSize': None, 'sizeOfBatch': 153}\n",
      "96.21702127659574 {'K': 7, 'batches': 47, 'beta': -50, 'clfName': 'LP', 'distanceMetric': 'BBD', 'initialLabeledData': 800, 'isBatchMode': True, 'poolSize': None, 'sizeOfBatch': 153}\n",
      "96.17553191489361 {'K': 8, 'batches': 47, 'beta': -50, 'clfName': 'LP', 'distanceMetric': 'BBD', 'initialLabeledData': 800, 'isBatchMode': True, 'poolSize': None, 'sizeOfBatch': 153}\n",
      "96.23063829787235 {'K': 9, 'batches': 47, 'beta': -50, 'clfName': 'LP', 'distanceMetric': 'BBD', 'initialLabeledData': 800, 'isBatchMode': True, 'poolSize': None, 'sizeOfBatch': 153}\n",
      "96.11978723404256 {'K': 10, 'batches': 47, 'beta': -50, 'clfName': 'LP', 'distanceMetric': 'BBD', 'initialLabeledData': 800, 'isBatchMode': True, 'poolSize': None, 'sizeOfBatch': 153}\n",
      "96.37021276595743 {'K': 11, 'batches': 47, 'beta': -50, 'clfName': 'LP', 'distanceMetric': 'BBD', 'initialLabeledData': 800, 'isBatchMode': True, 'poolSize': None, 'sizeOfBatch': 153}\n",
      "96.18936170212766 {'K': 12, 'batches': 47, 'beta': -50, 'clfName': 'LP', 'distanceMetric': 'BBD', 'initialLabeledData': 800, 'isBatchMode': True, 'poolSize': None, 'sizeOfBatch': 153}\n",
      "96.37021276595743\n",
      "{'K': 11, 'batches': 47, 'beta': -50, 'clfName': 'LP', 'distanceMetric': 'BBD', 'initialLabeledData': 800, 'isBatchMode': True, 'poolSize': None, 'sizeOfBatch': 153}\n",
      "=======================================================================================================\n",
      "Two Classes Diagonal Translation. 2 Dimensional data: 47 batches of 153 instances\n"
     ]
    },
    {
     "name": "stderr",
     "output_type": "stream",
     "text": [
      "C:\\Users\\Alunos\\Documents\\Bruno_Accioli\\AMANDA\\setup.py:46: FutureWarning: Method .as_matrix will be removed in a future version. Use .values instead.\n",
      "  dataValues = pd.DataFrame.as_matrix(dataValues)\n"
     ]
    },
    {
     "name": "stdout",
     "output_type": "stream",
     "text": [
      "53.21829787234042 {'K': 2, 'batches': 47, 'beta': -50, 'clfName': 'LP', 'distanceMetric': 'BBD', 'initialLabeledData': 800, 'isBatchMode': True, 'poolSize': None, 'sizeOfBatch': 153}\n",
      "53.12106382978723 {'K': 3, 'batches': 47, 'beta': -50, 'clfName': 'LP', 'distanceMetric': 'BBD', 'initialLabeledData': 800, 'isBatchMode': True, 'poolSize': None, 'sizeOfBatch': 153}\n",
      "53.162978723404265 {'K': 4, 'batches': 47, 'beta': -50, 'clfName': 'LP', 'distanceMetric': 'BBD', 'initialLabeledData': 800, 'isBatchMode': True, 'poolSize': None, 'sizeOfBatch': 153}\n",
      "53.148936170212764 {'K': 5, 'batches': 47, 'beta': -50, 'clfName': 'LP', 'distanceMetric': 'BBD', 'initialLabeledData': 800, 'isBatchMode': True, 'poolSize': None, 'sizeOfBatch': 153}\n",
      "53.16276595744681 {'K': 6, 'batches': 47, 'beta': -50, 'clfName': 'LP', 'distanceMetric': 'BBD', 'initialLabeledData': 800, 'isBatchMode': True, 'poolSize': None, 'sizeOfBatch': 153}\n",
      "53.12106382978723 {'K': 7, 'batches': 47, 'beta': -50, 'clfName': 'LP', 'distanceMetric': 'BBD', 'initialLabeledData': 800, 'isBatchMode': True, 'poolSize': None, 'sizeOfBatch': 153}\n",
      "53.14893617021278 {'K': 8, 'batches': 47, 'beta': -50, 'clfName': 'LP', 'distanceMetric': 'BBD', 'initialLabeledData': 800, 'isBatchMode': True, 'poolSize': None, 'sizeOfBatch': 153}\n",
      "53.05148936170212 {'K': 9, 'batches': 47, 'beta': -50, 'clfName': 'LP', 'distanceMetric': 'BBD', 'initialLabeledData': 800, 'isBatchMode': True, 'poolSize': None, 'sizeOfBatch': 153}\n",
      "53.09319148936169 {'K': 10, 'batches': 47, 'beta': -50, 'clfName': 'LP', 'distanceMetric': 'BBD', 'initialLabeledData': 800, 'isBatchMode': True, 'poolSize': None, 'sizeOfBatch': 153}\n",
      "53.065319148936176 {'K': 11, 'batches': 47, 'beta': -50, 'clfName': 'LP', 'distanceMetric': 'BBD', 'initialLabeledData': 800, 'isBatchMode': True, 'poolSize': None, 'sizeOfBatch': 153}\n",
      "53.05127659574469 {'K': 12, 'batches': 47, 'beta': -50, 'clfName': 'LP', 'distanceMetric': 'BBD', 'initialLabeledData': 800, 'isBatchMode': True, 'poolSize': None, 'sizeOfBatch': 153}\n",
      "53.21829787234042\n",
      "{'K': 2, 'batches': 47, 'beta': -50, 'clfName': 'LP', 'distanceMetric': 'BBD', 'initialLabeledData': 800, 'isBatchMode': True, 'poolSize': None, 'sizeOfBatch': 153}\n",
      "=======================================================================================================\n",
      "Two Classes Horizontal Translation. 2 Dimensional data.: 47 batches of 153 instances\n"
     ]
    },
    {
     "name": "stderr",
     "output_type": "stream",
     "text": [
      "C:\\Users\\Alunos\\Documents\\Bruno_Accioli\\AMANDA\\setup.py:59: FutureWarning: Method .as_matrix will be removed in a future version. Use .values instead.\n",
      "  dataValues = pd.DataFrame.as_matrix(dataValues)\n"
     ]
    },
    {
     "name": "stdout",
     "output_type": "stream",
     "text": [
      "53.06553191489362 {'K': 2, 'batches': 47, 'beta': -50, 'clfName': 'LP', 'distanceMetric': 'BBD', 'initialLabeledData': 800, 'isBatchMode': True, 'poolSize': None, 'sizeOfBatch': 153}\n",
      "52.56531914893618 {'K': 3, 'batches': 47, 'beta': -50, 'clfName': 'LP', 'distanceMetric': 'BBD', 'initialLabeledData': 800, 'isBatchMode': True, 'poolSize': None, 'sizeOfBatch': 153}\n",
      "52.565319148936176 {'K': 4, 'batches': 47, 'beta': -50, 'clfName': 'LP', 'distanceMetric': 'BBD', 'initialLabeledData': 800, 'isBatchMode': True, 'poolSize': None, 'sizeOfBatch': 153}\n",
      "52.57936170212767 {'K': 5, 'batches': 47, 'beta': -50, 'clfName': 'LP', 'distanceMetric': 'BBD', 'initialLabeledData': 800, 'isBatchMode': True, 'poolSize': None, 'sizeOfBatch': 153}\n",
      "52.551276595744675 {'K': 6, 'batches': 47, 'beta': -50, 'clfName': 'LP', 'distanceMetric': 'BBD', 'initialLabeledData': 800, 'isBatchMode': True, 'poolSize': None, 'sizeOfBatch': 153}\n",
      "52.565531914893626 {'K': 7, 'batches': 47, 'beta': -50, 'clfName': 'LP', 'distanceMetric': 'BBD', 'initialLabeledData': 800, 'isBatchMode': True, 'poolSize': None, 'sizeOfBatch': 153}\n",
      "52.648510638297886 {'K': 8, 'batches': 47, 'beta': -50, 'clfName': 'LP', 'distanceMetric': 'BBD', 'initialLabeledData': 800, 'isBatchMode': True, 'poolSize': None, 'sizeOfBatch': 153}\n",
      "52.50978723404256 {'K': 9, 'batches': 47, 'beta': -50, 'clfName': 'LP', 'distanceMetric': 'BBD', 'initialLabeledData': 800, 'isBatchMode': True, 'poolSize': None, 'sizeOfBatch': 153}\n",
      "53.107659574468094 {'K': 10, 'batches': 47, 'beta': -50, 'clfName': 'LP', 'distanceMetric': 'BBD', 'initialLabeledData': 800, 'isBatchMode': True, 'poolSize': None, 'sizeOfBatch': 153}\n",
      "53.19106382978725 {'K': 11, 'batches': 47, 'beta': -50, 'clfName': 'LP', 'distanceMetric': 'BBD', 'initialLabeledData': 800, 'isBatchMode': True, 'poolSize': None, 'sizeOfBatch': 153}\n",
      "53.06574468085107 {'K': 12, 'batches': 47, 'beta': -50, 'clfName': 'LP', 'distanceMetric': 'BBD', 'initialLabeledData': 800, 'isBatchMode': True, 'poolSize': None, 'sizeOfBatch': 153}\n",
      "53.19106382978725\n",
      "{'K': 11, 'batches': 47, 'beta': -50, 'clfName': 'LP', 'distanceMetric': 'BBD', 'initialLabeledData': 800, 'isBatchMode': True, 'poolSize': None, 'sizeOfBatch': 153}\n",
      "=======================================================================================================\n"
     ]
    },
    {
     "name": "stderr",
     "output_type": "stream",
     "text": [
      "C:\\Users\\Alunos\\Documents\\Bruno_Accioli\\AMANDA\\setup.py:176: FutureWarning: Method .as_matrix will be removed in a future version. Use .values instead.\n",
      "  dataValues = pd.DataFrame.as_matrix(dataValues)\n"
     ]
    },
    {
     "name": "stdout",
     "output_type": "stream",
     "text": [
      "Four Classes Rotating Separated. Bidimensional.: 47 batches of 1382 instances\n",
      "29.121702127659574 {'K': 2, 'batches': 47, 'beta': -50, 'clfName': 'LP', 'distanceMetric': 'BBD', 'initialLabeledData': 7220, 'isBatchMode': True, 'poolSize': None, 'sizeOfBatch': 1382}\n",
      "31.351063829787233 {'K': 3, 'batches': 47, 'beta': -50, 'clfName': 'LP', 'distanceMetric': 'BBD', 'initialLabeledData': 7220, 'isBatchMode': True, 'poolSize': None, 'sizeOfBatch': 1382}\n",
      "29.099999999999998 {'K': 4, 'batches': 47, 'beta': -50, 'clfName': 'LP', 'distanceMetric': 'BBD', 'initialLabeledData': 7220, 'isBatchMode': True, 'poolSize': None, 'sizeOfBatch': 1382}\n",
      "28.524680851063827 {'K': 5, 'batches': 47, 'beta': -50, 'clfName': 'LP', 'distanceMetric': 'BBD', 'initialLabeledData': 7220, 'isBatchMode': True, 'poolSize': None, 'sizeOfBatch': 1382}\n",
      "29.081489361702126 {'K': 6, 'batches': 47, 'beta': -50, 'clfName': 'LP', 'distanceMetric': 'BBD', 'initialLabeledData': 7220, 'isBatchMode': True, 'poolSize': None, 'sizeOfBatch': 1382}\n",
      "29.044680851063827 {'K': 7, 'batches': 47, 'beta': -50, 'clfName': 'LP', 'distanceMetric': 'BBD', 'initialLabeledData': 7220, 'isBatchMode': True, 'poolSize': None, 'sizeOfBatch': 1382}\n",
      "29.96276595744681 {'K': 8, 'batches': 47, 'beta': -50, 'clfName': 'LP', 'distanceMetric': 'BBD', 'initialLabeledData': 7220, 'isBatchMode': True, 'poolSize': None, 'sizeOfBatch': 1382}\n",
      "31.684042553191485 {'K': 9, 'batches': 47, 'beta': -50, 'clfName': 'LP', 'distanceMetric': 'BBD', 'initialLabeledData': 7220, 'isBatchMode': True, 'poolSize': None, 'sizeOfBatch': 1382}\n",
      "31.819148936170212 {'K': 10, 'batches': 47, 'beta': -50, 'clfName': 'LP', 'distanceMetric': 'BBD', 'initialLabeledData': 7220, 'isBatchMode': True, 'poolSize': None, 'sizeOfBatch': 1382}\n",
      "31.77127659574468 {'K': 11, 'batches': 47, 'beta': -50, 'clfName': 'LP', 'distanceMetric': 'BBD', 'initialLabeledData': 7220, 'isBatchMode': True, 'poolSize': None, 'sizeOfBatch': 1382}\n",
      "28.633829787234042 {'K': 12, 'batches': 47, 'beta': -50, 'clfName': 'LP', 'distanceMetric': 'BBD', 'initialLabeledData': 7220, 'isBatchMode': True, 'poolSize': None, 'sizeOfBatch': 1382}\n",
      "31.819148936170212\n",
      "{'K': 10, 'batches': 47, 'beta': -50, 'clfName': 'LP', 'distanceMetric': 'BBD', 'initialLabeledData': 7220, 'isBatchMode': True, 'poolSize': None, 'sizeOfBatch': 1382}\n",
      "=======================================================================================================\n"
     ]
    },
    {
     "name": "stderr",
     "output_type": "stream",
     "text": [
      "C:\\Users\\Alunos\\Documents\\Bruno_Accioli\\AMANDA\\setup.py:189: FutureWarning: Method .as_matrix will be removed in a future version. Use .values instead.\n",
      "  dataValues = pd.DataFrame.as_matrix(dataValues)\n"
     ]
    },
    {
     "name": "stdout",
     "output_type": "stream",
     "text": [
      "Four Classes Rotating with Expansion V1. Bidimensional.: 47 batches of 1196 instances\n",
      "23.86851063829788 {'K': 2, 'batches': 47, 'beta': -50, 'clfName': 'LP', 'distanceMetric': 'BBD', 'initialLabeledData': 6250, 'isBatchMode': True, 'poolSize': None, 'sizeOfBatch': 1196}\n",
      "22.470638297872338 {'K': 3, 'batches': 47, 'beta': -50, 'clfName': 'LP', 'distanceMetric': 'BBD', 'initialLabeledData': 6250, 'isBatchMode': True, 'poolSize': None, 'sizeOfBatch': 1196}\n",
      "22.42191489361702 {'K': 4, 'batches': 47, 'beta': -50, 'clfName': 'LP', 'distanceMetric': 'BBD', 'initialLabeledData': 6250, 'isBatchMode': True, 'poolSize': None, 'sizeOfBatch': 1196}\n",
      "22.240851063829787 {'K': 5, 'batches': 47, 'beta': -50, 'clfName': 'LP', 'distanceMetric': 'BBD', 'initialLabeledData': 6250, 'isBatchMode': True, 'poolSize': None, 'sizeOfBatch': 1196}\n",
      "22.306382978723406 {'K': 6, 'batches': 47, 'beta': -50, 'clfName': 'LP', 'distanceMetric': 'BBD', 'initialLabeledData': 6250, 'isBatchMode': True, 'poolSize': None, 'sizeOfBatch': 1196}\n",
      "22.144893617021275 {'K': 7, 'batches': 47, 'beta': -50, 'clfName': 'LP', 'distanceMetric': 'BBD', 'initialLabeledData': 6250, 'isBatchMode': True, 'poolSize': None, 'sizeOfBatch': 1196}\n",
      "21.877659574468087 {'K': 8, 'batches': 47, 'beta': -50, 'clfName': 'LP', 'distanceMetric': 'BBD', 'initialLabeledData': 6250, 'isBatchMode': True, 'poolSize': None, 'sizeOfBatch': 1196}\n",
      "21.81574468085106 {'K': 9, 'batches': 47, 'beta': -50, 'clfName': 'LP', 'distanceMetric': 'BBD', 'initialLabeledData': 6250, 'isBatchMode': True, 'poolSize': None, 'sizeOfBatch': 1196}\n",
      "23.40765957446809 {'K': 10, 'batches': 47, 'beta': -50, 'clfName': 'LP', 'distanceMetric': 'BBD', 'initialLabeledData': 6250, 'isBatchMode': True, 'poolSize': None, 'sizeOfBatch': 1196}\n",
      "22.53702127659575 {'K': 11, 'batches': 47, 'beta': -50, 'clfName': 'LP', 'distanceMetric': 'BBD', 'initialLabeledData': 6250, 'isBatchMode': True, 'poolSize': None, 'sizeOfBatch': 1196}\n",
      "22.847659574468082 {'K': 12, 'batches': 47, 'beta': -50, 'clfName': 'LP', 'distanceMetric': 'BBD', 'initialLabeledData': 6250, 'isBatchMode': True, 'poolSize': None, 'sizeOfBatch': 1196}\n",
      "23.86851063829788\n",
      "{'K': 2, 'batches': 47, 'beta': -50, 'clfName': 'LP', 'distanceMetric': 'BBD', 'initialLabeledData': 6250, 'isBatchMode': True, 'poolSize': None, 'sizeOfBatch': 1196}\n",
      "=======================================================================================================\n"
     ]
    },
    {
     "name": "stderr",
     "output_type": "stream",
     "text": [
      "C:\\Users\\Alunos\\Documents\\Bruno_Accioli\\AMANDA\\setup.py:202: FutureWarning: Method .as_matrix will be removed in a future version. Use .values instead.\n",
      "  dataValues = pd.DataFrame.as_matrix(dataValues)\n"
     ]
    },
    {
     "name": "stdout",
     "output_type": "stream",
     "text": [
      "Four Classes Rotating with Expansion V2. Bidimensional.: 47 batches of 1752 instances\n",
      "19.580425531914894 {'K': 2, 'batches': 47, 'beta': -50, 'clfName': 'LP', 'distanceMetric': 'BBD', 'initialLabeledData': 9150, 'isBatchMode': True, 'poolSize': None, 'sizeOfBatch': 1752}\n",
      "19.138085106382977 {'K': 3, 'batches': 47, 'beta': -50, 'clfName': 'LP', 'distanceMetric': 'BBD', 'initialLabeledData': 9150, 'isBatchMode': True, 'poolSize': None, 'sizeOfBatch': 1752}\n",
      "19.560851063829787 {'K': 4, 'batches': 47, 'beta': -50, 'clfName': 'LP', 'distanceMetric': 'BBD', 'initialLabeledData': 9150, 'isBatchMode': True, 'poolSize': None, 'sizeOfBatch': 1752}\n",
      "19.21744680851064 {'K': 5, 'batches': 47, 'beta': -50, 'clfName': 'LP', 'distanceMetric': 'BBD', 'initialLabeledData': 9150, 'isBatchMode': True, 'poolSize': None, 'sizeOfBatch': 1752}\n",
      "19.48978723404255 {'K': 6, 'batches': 47, 'beta': -50, 'clfName': 'LP', 'distanceMetric': 'BBD', 'initialLabeledData': 9150, 'isBatchMode': True, 'poolSize': None, 'sizeOfBatch': 1752}\n",
      "19.568297872340423 {'K': 7, 'batches': 47, 'beta': -50, 'clfName': 'LP', 'distanceMetric': 'BBD', 'initialLabeledData': 9150, 'isBatchMode': True, 'poolSize': None, 'sizeOfBatch': 1752}\n",
      "19.54021276595745 {'K': 8, 'batches': 47, 'beta': -50, 'clfName': 'LP', 'distanceMetric': 'BBD', 'initialLabeledData': 9150, 'isBatchMode': True, 'poolSize': None, 'sizeOfBatch': 1752}\n",
      "19.739574468085102 {'K': 9, 'batches': 47, 'beta': -50, 'clfName': 'LP', 'distanceMetric': 'BBD', 'initialLabeledData': 9150, 'isBatchMode': True, 'poolSize': None, 'sizeOfBatch': 1752}\n",
      "19.460425531914893 {'K': 10, 'batches': 47, 'beta': -50, 'clfName': 'LP', 'distanceMetric': 'BBD', 'initialLabeledData': 9150, 'isBatchMode': True, 'poolSize': None, 'sizeOfBatch': 1752}\n",
      "19.721276595744676 {'K': 11, 'batches': 47, 'beta': -50, 'clfName': 'LP', 'distanceMetric': 'BBD', 'initialLabeledData': 9150, 'isBatchMode': True, 'poolSize': None, 'sizeOfBatch': 1752}\n",
      "19.715744680851063 {'K': 12, 'batches': 47, 'beta': -50, 'clfName': 'LP', 'distanceMetric': 'BBD', 'initialLabeledData': 9150, 'isBatchMode': True, 'poolSize': None, 'sizeOfBatch': 1752}\n",
      "19.739574468085102\n",
      "{'K': 9, 'batches': 47, 'beta': -50, 'clfName': 'LP', 'distanceMetric': 'BBD', 'initialLabeledData': 9150, 'isBatchMode': True, 'poolSize': None, 'sizeOfBatch': 1752}\n",
      "=======================================================================================================\n",
      "Five Classes Vertical Translation. Bidimensional.: 47 batches of 229 instances\n"
     ]
    },
    {
     "name": "stderr",
     "output_type": "stream",
     "text": [
      "C:\\Users\\Alunos\\Documents\\Bruno_Accioli\\AMANDA\\setup.py:163: FutureWarning: Method .as_matrix will be removed in a future version. Use .values instead.\n",
      "  dataValues = pd.DataFrame.as_matrix(dataValues)\n"
     ]
    },
    {
     "name": "stdout",
     "output_type": "stream",
     "text": [
      "23.2731914893617 {'K': 2, 'batches': 47, 'beta': -50, 'clfName': 'LP', 'distanceMetric': 'BBD', 'initialLabeledData': 1200, 'isBatchMode': True, 'poolSize': None, 'sizeOfBatch': 229}\n",
      "25.522553191489354 {'K': 3, 'batches': 47, 'beta': -50, 'clfName': 'LP', 'distanceMetric': 'BBD', 'initialLabeledData': 1200, 'isBatchMode': True, 'poolSize': None, 'sizeOfBatch': 229}\n",
      "22.883191489361703 {'K': 4, 'batches': 47, 'beta': -50, 'clfName': 'LP', 'distanceMetric': 'BBD', 'initialLabeledData': 1200, 'isBatchMode': True, 'poolSize': None, 'sizeOfBatch': 229}\n",
      "23.506382978723398 {'K': 5, 'batches': 47, 'beta': -50, 'clfName': 'LP', 'distanceMetric': 'BBD', 'initialLabeledData': 1200, 'isBatchMode': True, 'poolSize': None, 'sizeOfBatch': 229}\n",
      "23.54361702127659 {'K': 6, 'batches': 47, 'beta': -50, 'clfName': 'LP', 'distanceMetric': 'BBD', 'initialLabeledData': 1200, 'isBatchMode': True, 'poolSize': None, 'sizeOfBatch': 229}\n",
      "23.441276595744675 {'K': 7, 'batches': 47, 'beta': -50, 'clfName': 'LP', 'distanceMetric': 'BBD', 'initialLabeledData': 1200, 'isBatchMode': True, 'poolSize': None, 'sizeOfBatch': 229}\n",
      "22.79042553191489 {'K': 8, 'batches': 47, 'beta': -50, 'clfName': 'LP', 'distanceMetric': 'BBD', 'initialLabeledData': 1200, 'isBatchMode': True, 'poolSize': None, 'sizeOfBatch': 229}\n",
      "23.245319148936165 {'K': 9, 'batches': 47, 'beta': -50, 'clfName': 'LP', 'distanceMetric': 'BBD', 'initialLabeledData': 1200, 'isBatchMode': True, 'poolSize': None, 'sizeOfBatch': 229}\n",
      "23.01297872340425 {'K': 10, 'batches': 47, 'beta': -50, 'clfName': 'LP', 'distanceMetric': 'BBD', 'initialLabeledData': 1200, 'isBatchMode': True, 'poolSize': None, 'sizeOfBatch': 229}\n",
      "23.049999999999994 {'K': 11, 'batches': 47, 'beta': -50, 'clfName': 'LP', 'distanceMetric': 'BBD', 'initialLabeledData': 1200, 'isBatchMode': True, 'poolSize': None, 'sizeOfBatch': 229}\n",
      "22.818085106382973 {'K': 12, 'batches': 47, 'beta': -50, 'clfName': 'LP', 'distanceMetric': 'BBD', 'initialLabeledData': 1200, 'isBatchMode': True, 'poolSize': None, 'sizeOfBatch': 229}\n",
      "25.522553191489354\n",
      "{'K': 3, 'batches': 47, 'beta': -50, 'clfName': 'LP', 'distanceMetric': 'BBD', 'initialLabeledData': 1200, 'isBatchMode': True, 'poolSize': None, 'sizeOfBatch': 229}\n",
      "=======================================================================================================\n",
      "One Class Surrounding another Class. Bidimensional.: 47 batches of 529 instances\n"
     ]
    },
    {
     "name": "stderr",
     "output_type": "stream",
     "text": [
      "C:\\Users\\Alunos\\Documents\\Bruno_Accioli\\AMANDA\\setup.py:150: FutureWarning: Method .as_matrix will be removed in a future version. Use .values instead.\n",
      "  dataValues = pd.DataFrame.as_matrix(dataValues)\n"
     ]
    },
    {
     "name": "stdout",
     "output_type": "stream",
     "text": [
      "72.43659574468086 {'K': 2, 'batches': 47, 'beta': -50, 'clfName': 'LP', 'distanceMetric': 'BBD', 'initialLabeledData': 2764, 'isBatchMode': True, 'poolSize': None, 'sizeOfBatch': 529}\n",
      "82.65659574468086 {'K': 3, 'batches': 47, 'beta': -50, 'clfName': 'LP', 'distanceMetric': 'BBD', 'initialLabeledData': 2764, 'isBatchMode': True, 'poolSize': None, 'sizeOfBatch': 529}\n",
      "71.88510638297873 {'K': 4, 'batches': 47, 'beta': -50, 'clfName': 'LP', 'distanceMetric': 'BBD', 'initialLabeledData': 2764, 'isBatchMode': True, 'poolSize': None, 'sizeOfBatch': 529}\n",
      "72.87489361702127 {'K': 5, 'batches': 47, 'beta': -50, 'clfName': 'LP', 'distanceMetric': 'BBD', 'initialLabeledData': 2764, 'isBatchMode': True, 'poolSize': None, 'sizeOfBatch': 529}\n",
      "73.71170212765956 {'K': 6, 'batches': 47, 'beta': -50, 'clfName': 'LP', 'distanceMetric': 'BBD', 'initialLabeledData': 2764, 'isBatchMode': True, 'poolSize': None, 'sizeOfBatch': 529}\n",
      "84.71574468085105 {'K': 7, 'batches': 47, 'beta': -50, 'clfName': 'LP', 'distanceMetric': 'BBD', 'initialLabeledData': 2764, 'isBatchMode': True, 'poolSize': None, 'sizeOfBatch': 529}\n",
      "85.03425531914893 {'K': 8, 'batches': 47, 'beta': -50, 'clfName': 'LP', 'distanceMetric': 'BBD', 'initialLabeledData': 2764, 'isBatchMode': True, 'poolSize': None, 'sizeOfBatch': 529}\n",
      "72.63765957446807 {'K': 9, 'batches': 47, 'beta': -50, 'clfName': 'LP', 'distanceMetric': 'BBD', 'initialLabeledData': 2764, 'isBatchMode': True, 'poolSize': None, 'sizeOfBatch': 529}\n",
      "73.12446808510639 {'K': 10, 'batches': 47, 'beta': -50, 'clfName': 'LP', 'distanceMetric': 'BBD', 'initialLabeledData': 2764, 'isBatchMode': True, 'poolSize': None, 'sizeOfBatch': 529}\n",
      "69.12212765957446 {'K': 11, 'batches': 47, 'beta': -50, 'clfName': 'LP', 'distanceMetric': 'BBD', 'initialLabeledData': 2764, 'isBatchMode': True, 'poolSize': None, 'sizeOfBatch': 529}\n",
      "72.05872340425532 {'K': 12, 'batches': 47, 'beta': -50, 'clfName': 'LP', 'distanceMetric': 'BBD', 'initialLabeledData': 2764, 'isBatchMode': True, 'poolSize': None, 'sizeOfBatch': 529}\n",
      "85.03425531914893\n",
      "{'K': 8, 'batches': 47, 'beta': -50, 'clfName': 'LP', 'distanceMetric': 'BBD', 'initialLabeledData': 2764, 'isBatchMode': True, 'poolSize': None, 'sizeOfBatch': 529}\n",
      "=======================================================================================================\n"
     ]
    },
    {
     "name": "stderr",
     "output_type": "stream",
     "text": [
      "C:\\Users\\Alunos\\Documents\\Bruno_Accioli\\AMANDA\\setup.py:214: FutureWarning: Method .as_matrix will be removed in a future version. Use .values instead.\n",
      "  dataValues = pd.DataFrame.as_matrix(dataValues)\n"
     ]
    },
    {
     "name": "stdout",
     "output_type": "stream",
     "text": [
      "Four Classes Expanding and One Class Fixed. Bidimensional.: 47 batches of 1658 instances\n",
      "97.79340425531917 {'K': 2, 'batches': 47, 'beta': -50, 'clfName': 'LP', 'distanceMetric': 'BBD', 'initialLabeledData': 8662, 'isBatchMode': True, 'poolSize': None, 'sizeOfBatch': 1658}\n",
      "97.77553191489365 {'K': 3, 'batches': 47, 'beta': -50, 'clfName': 'LP', 'distanceMetric': 'BBD', 'initialLabeledData': 8662, 'isBatchMode': True, 'poolSize': None, 'sizeOfBatch': 1658}\n"
     ]
    }
   ],
   "source": [
    "import sys\n",
    "import os\n",
    "import numpy as np\n",
    "from pathlib import Path\n",
    "os.chdir(Path(os.getcwd()).resolve().parents[1])\n",
    "import setup\n",
    "from methods import grid_selection_amanda_dynamic\n",
    "from sklearn.model_selection import ParameterGrid\n",
    "\n",
    "\n",
    "\n",
    "def writeResults(datasetID, bestScore, bestParams, clfName, distanceMetric, beta=None):\n",
    "    if distanceMetric == 'BBD' and isinstance(beta,list):\n",
    "        path = \"results/batch/dynamic/gridsearch_amanda_dynamic_{}_EVL-{}-ALLBETAS.txt\".format(distanceMetric,clfName)\n",
    "    elif distanceMetric == 'BBD':\n",
    "        path = \"results/batch/dynamic/gridsearch_amanda_dynamic_{}{:.3f}_EVL-{}.txt\".format(distanceMetric, beta,clfName)\n",
    "    else:\n",
    "        path = \"results/batch/dynamic/gridsearch_amanda_dynamic_{}_EVL-{}.txt\".format(distanceMetric,clfName)\n",
    "        \n",
    "    file = open(path,\"a\") \n",
    "    string = \"{}: {} using {} \\n\".format(datasetID, bestScore, bestParams)\n",
    "    file.write(string)\n",
    "    file.close() \n",
    "\n",
    "\n",
    "def main(distanceMetric, beta=None):\n",
    "    is_windows = sys.platform.startswith('win')\n",
    "    sep = '\\\\'\n",
    "    \n",
    "    if is_windows == False:\n",
    "        sep = '/'\n",
    "\n",
    "    path = os.getcwd()+sep+'data'+sep\n",
    "    \n",
    "    #loading datasets\n",
    "    datasets = [setup.loadCDT, setup.loadCHT, setup.load2CDT, setup.load2CHT, setup.load4CR, setup.load4CRE_V1, \n",
    "                setup.load4CRE_V2, setup.load5CVT, setup.loadCSurr, setup.load4CE1CF, setup.loadUG_2C_2D, setup.loadMG_2C_2D, \n",
    "                setup.loadFG_2C_2D, setup.loadUG_2C_3D, setup.loadUG_2C_5D, setup.loadGEARS_2C_2D, setup.loadCheckerBoard, \n",
    "                setup.loadElecData, setup.loadNOAADataset, setup.loadKeystroke]\n",
    "    \n",
    "    #arrClfName = ['SGD', 'NB', 'RF', 'LP', 'KNN']\n",
    "    arrClfName = ['LP']\n",
    "    if (distanceMetric == 'BBD') and (beta is None):\n",
    "        raise Exception((\"AMANDA-DCP with BBD must have a beta value. beta = {}\").format(str(beta)))\n",
    "    \n",
    "    if beta is list:\n",
    "        allBetas = True\n",
    "    else:\n",
    "        allBetas=False\n",
    "        \n",
    "    for clfName in arrClfName:\n",
    "        if distanceMetric == 'BBD' and allBetas:\n",
    "            print(\"**************** BEGIN of {}-{} results ****************\".format(clfName, distanceMetric))\n",
    "        elif distanceMetric == 'BBD':\n",
    "            print(\"**************** BEGIN of {}-{}{:.3f} results ****************\".format(clfName, distanceMetric, beta))            \n",
    "        else:\n",
    "            print(\"**************** BEGIN of {}-{} results ****************\".format(clfName, distanceMetric))\n",
    "\n",
    "        poolSize = None\n",
    "        isBatchMode = True\n",
    "        #testing grid search\n",
    "        for i in range(len(datasets)):\n",
    "            batches=47\n",
    "            if i==len(datasets)-2:\n",
    "                batches=24\n",
    "            elif i==len(datasets)-1:\n",
    "                batches=4\n",
    "            \n",
    "            finalScore = 0\n",
    "            best_grid={}\n",
    "            dataValues, dataLabels, description = datasets[i](path, sep)\n",
    "\n",
    "            #Train-test split\n",
    "            availableQty = int(0.5*len(dataLabels))\n",
    "            availableLabels = dataLabels[:availableQty] \n",
    "            availableData = dataValues[:availableQty]\n",
    "\n",
    "            # 70/30 train/test data\n",
    "            initialLabeledData = int(0.1*len(availableLabels))\n",
    "            sizeOfBatch = int((len(availableLabels)-initialLabeledData)/batches)\n",
    "\n",
    "            print(\"{}: {} batches of {} instances\".format(description, batches, sizeOfBatch))\n",
    "\n",
    "            tuned_params = [{\"sizeOfBatch\":[sizeOfBatch], \n",
    "                             \"batches\":[batches], \"poolSize\":[poolSize], \"isBatchMode\":[isBatchMode], \n",
    "                             \"initialLabeledData\":[initialLabeledData], \"clfName\":[clfName],\n",
    "                            \"distanceMetric\":[distanceMetric], \"beta\":[beta]}]\n",
    "            if clfName == 'LP' or clfName == 'KNN':\n",
    "                tuned_params[0].update({\"K\":[2, 3, 4, 5, 6, 7, 8, 9, 10, 11, 12]})\n",
    "\n",
    "            for g in ParameterGrid(tuned_params):\n",
    "                averageAccuracy=0\n",
    "                gs = grid_selection_amanda_dynamic.run(**g)\n",
    "\n",
    "                try:\n",
    "                    gs.fit(availableData, availableLabels)\n",
    "                    averageAccuracy = np.mean(gs.predict())\n",
    "                    print(averageAccuracy, g)\n",
    "                    if finalScore < averageAccuracy:\n",
    "                        finalScore = averageAccuracy\n",
    "                        best_grid = g\n",
    "                except Exception:\n",
    "                    print(\"An error occured in \", description, g)\n",
    "                    #raise Exception\n",
    "\n",
    "            print(finalScore)\n",
    "            print(best_grid)\n",
    "            print(\"=======================================================================================================\")\n",
    "\n",
    "            writeResults(description, finalScore, best_grid, clfName, distanceMetric, beta)\n",
    "        \n",
    "        if distanceMetric == 'BBD' and allBetas:\n",
    "            print(\"**************** BEGIN of {}-{} results ****************\".format(clfName, distanceMetric))\n",
    "        elif distanceMetric == 'BBD':\n",
    "            print(\"******** END of {}-{}{:.3f} results ********\".format(clfName, distanceMetric, beta))\n",
    "        else:\n",
    "            print(\"******** END of {}-{} results ********\".format(clfName, distanceMetric))\n",
    "    \n",
    "if __name__ == \"__main__\":\n",
    "    distanceMetric = 'BBD'\n",
    "    betas = [-50, -1, -0.5, -0.1, 1.001, 1.1, 2, 3, 5, 10, 50]\n",
    "    \n",
    "    # Grid search for each beta value - BBD\n",
    "    for beta in betas:\n",
    "        main(distanceMetric, beta)\n",
    "        print('\\n\\n\\n')\n",
    "        \n",
    "    # grid search for Hellinger\n",
    "    distanceMetric = 'Hellinger'\n",
    "    main(distanceMetric, beta)\n",
    "    print('\\n\\n\\n')\n",
    "    \n",
    "    distanceMetric = 'Hellinger2'\n",
    "    main(distanceMetric, beta)\n",
    "    print('\\n\\n\\n')\n"
   ]
  },
  {
   "cell_type": "code",
   "execution_count": null,
   "metadata": {},
   "outputs": [],
   "source": []
  },
  {
   "cell_type": "code",
   "execution_count": null,
   "metadata": {},
   "outputs": [],
   "source": []
  }
 ],
 "metadata": {
  "kernelspec": {
   "display_name": "Python 3",
   "language": "python",
   "name": "python3"
  },
  "language_info": {
   "codemirror_mode": {
    "name": "ipython",
    "version": 3
   },
   "file_extension": ".py",
   "mimetype": "text/x-python",
   "name": "python",
   "nbconvert_exporter": "python",
   "pygments_lexer": "ipython3",
   "version": "3.7.0"
  }
 },
 "nbformat": 4,
 "nbformat_minor": 2
}
